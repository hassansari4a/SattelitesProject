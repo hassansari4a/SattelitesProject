{
 "cells": [
  {
   "cell_type": "code",
   "execution_count": 1,
   "id": "951dd777",
   "metadata": {},
   "outputs": [],
   "source": [
    "from spacetrack import SpaceTrackClient\n",
    "import pandas as pd\n",
    "\n",
    "from pyspark.sql import SparkSession, types"
   ]
  },
  {
   "cell_type": "code",
   "execution_count": 2,
   "id": "fc27d108",
   "metadata": {},
   "outputs": [
    {
     "name": "stderr",
     "output_type": "stream",
     "text": [
      "Setting default log level to \"WARN\".\n",
      "To adjust logging level use sc.setLogLevel(newLevel). For SparkR, use setLogLevel(newLevel).\n"
     ]
    },
    {
     "name": "stdout",
     "output_type": "stream",
     "text": [
      "23/04/05 13:27:24 WARN NativeCodeLoader: Unable to load native-hadoop library for your platform... using builtin-java classes where applicable\n"
     ]
    }
   ],
   "source": [
    "spark = SparkSession.builder.appName('SattelitesProject').getOrCreate()\n",
    "\n",
    "st = SpaceTrackClient('hassansari4a@gmail.com', '9817377317NCELL')"
   ]
  },
  {
   "cell_type": "code",
   "execution_count": 148,
   "id": "7f96c207",
   "metadata": {
    "scrolled": true
   },
   "outputs": [],
   "source": [
    "csvfile = st.satcat(format='csv')"
   ]
  },
  {
   "cell_type": "code",
   "execution_count": 149,
   "id": "ead3208c",
   "metadata": {},
   "outputs": [],
   "source": [
    "with open('my_file.csv', 'w') as my_file:\n",
    "    my_file.write(csvfile)"
   ]
  },
  {
   "cell_type": "code",
   "execution_count": 150,
   "id": "f154bb39",
   "metadata": {
    "scrolled": true
   },
   "outputs": [
    {
     "name": "stderr",
     "output_type": "stream",
     "text": [
      "/var/folders/27/yj55qwjs7md5w890736t7nc40000gn/T/ipykernel_19454/1457401881.py:1: DtypeWarning: Columns (12) have mixed types. Specify dtype option on import or set low_memory=False.\n",
      "  df99 = pd.read_csv('my_file.csv')\n"
     ]
    }
   ],
   "source": [
    "df99 = pd.read_csv('my_file.csv')\n",
    "df99.to_csv('satcatdata.csv', index=False)"
   ]
  },
  {
   "cell_type": "code",
   "execution_count": 3,
   "id": "d32497c2",
   "metadata": {},
   "outputs": [
    {
     "name": "stderr",
     "output_type": "stream",
     "text": [
      "                                                                                \r"
     ]
    }
   ],
   "source": [
    "dfspark = spark.read.format(\"csv\") \\\n",
    "                   .option(\"delimiter\", \",\") \\\n",
    "                   .option(\"header\", \"true\") \\\n",
    "                   .option(\"inferSchema\", \"true\") \\\n",
    "                   .load(\"satcatdata.csv\")"
   ]
  },
  {
   "cell_type": "code",
   "execution_count": 152,
   "id": "c99a6631",
   "metadata": {},
   "outputs": [
    {
     "name": "stdout",
     "output_type": "stream",
     "text": [
      "+---------+------------+-----------+--------------------+-------+-------------------+-----+-------------------+--------+-----------+--------+-------+-------+-----------+--------+--------+----+-----------+----------+------------+-------+--------------------+---------+-------------+\n",
      "|  INTLDES|NORAD_CAT_ID|OBJECT_TYPE|             SATNAME|COUNTRY|             LAUNCH| SITE|              DECAY|  PERIOD|INCLINATION|  APOGEE|PERIGEE|COMMENT|COMMENTCODE|RCSVALUE|RCS_SIZE|FILE|LAUNCH_YEAR|LAUNCH_NUM|LAUNCH_PIECE|CURRENT|         OBJECT_NAME|OBJECT_ID|OBJECT_NUMBER|\n",
      "+---------+------------+-----------+--------------------+-------+-------------------+-----+-------------------+--------+-----------+--------+-------+-------+-----------+--------+--------+----+-----------+----------+------------+-------+--------------------+---------+-------------+\n",
      "|1957-001A|           1|ROCKET BODY|            SL-1 R/B|    CIS|1957-10-04 00:00:00|TTMTR|1957-12-01 00:00:00|   96.19|       65.1|   938.0|  214.0|   null|        4.0|       0|   LARGE|   1|       1957|         1|           A|      Y|            SL-1 R/B|1957-001A|            1|\n",
      "|1958-001A|           4|    PAYLOAD|          EXPLORER 1|     US|1958-02-01 00:00:00|AFETR|1970-03-31 00:00:00|   88.48|      33.15|   215.0|  183.0|   null|       null|       0|    null|   1|       1958|         1|           A|      Y|          EXPLORER 1|1958-001A|            4|\n",
      "|1958-003A|           6|    PAYLOAD|          EXPLORER 3|     US|1958-03-26 00:00:00|AFETR|1958-06-28 00:00:00|   103.6|       33.5|  1739.0|  117.0|   null|        5.0|       0|    null|   1|       1958|         3|           A|      Y|          EXPLORER 3|1958-003A|            6|\n",
      "|1958-004A|           7|ROCKET BODY|            SL-1 R/B|    CIS|1958-05-15 00:00:00|TTMTR|1958-12-03 00:00:00|  102.74|      65.14|  1571.0|  206.0|   null|       null|       0|    null|   1|       1958|         4|           A|      Y|            SL-1 R/B|1958-004A|            7|\n",
      "|1958-004B|           8|    PAYLOAD|           SPUTNIK 3|    CIS|1958-05-15 00:00:00|TTMTR|1960-04-06 00:00:00|   88.43|      65.06|   255.0|  139.0|   null|       null|       0|   LARGE|   1|       1958|         4|           B|      Y|           SPUTNIK 3|1958-004B|            8|\n",
      "|1958-005A|           9|    PAYLOAD|          EXPLORER 4|     US|1958-07-26 00:00:00|AFETR|1959-10-23 00:00:00|   92.81|      50.25|   585.0|  239.0|   null|       null|       0|    null|   1|       1958|         5|           A|      Y|          EXPLORER 4|1958-005A|            9|\n",
      "|1958-006A|          10|    PAYLOAD|               SCORE|     US|1958-12-18 00:00:00|AFETR|1959-01-21 00:00:00|   98.21|      32.29|  1187.0|  159.0|   null|       null|       0|    null|   1|       1958|         6|           A|      Y|               SCORE|1958-006A|           10|\n",
      "|1959-002A|          13|    PAYLOAD|        DISCOVERER 1|     US|1959-02-28 00:00:00|AFWTR|1959-03-03 00:00:00|    92.7|       90.0|   697.0|  114.0|   null|        5.0|       0|    null|   1|       1959|         2|           A|      Y|        DISCOVERER 1|1959-002A|           13|\n",
      "|1959-003A|          14|    PAYLOAD|        DISCOVERER 2|     US|1959-04-13 00:00:00|AFWTR|1959-04-26 00:00:00|    90.4|       89.9|   346.0|  239.0|   null|        5.0|       0|    null|   1|       1959|         3|           A|      Y|        DISCOVERER 2|1959-003A|           14|\n",
      "|1959-004A|          15|    PAYLOAD|          EXPLORER 6|     US|1959-08-07 00:00:00|AFETR|1961-06-30 00:00:00|  762.25|      46.95| 42276.0|  251.0|   null|       null|       0|    null|   1|       1959|         4|           A|      Y|          EXPLORER 6|1959-004A|           15|\n",
      "|1959-004B|          17|ROCKET BODY|       THOR ABLE R/B|     US|1959-08-07 00:00:00|AFETR|1961-06-30 00:00:00|  718.96|       47.1| 40215.0|  198.0|   null|       null|       0|   SMALL|   1|       1959|         4|           B|      Y|       THOR ABLE R/B|1959-004B|           17|\n",
      "|1959-005A|          18|    PAYLOAD|        DISCOVERER 5|     US|1959-08-13 00:00:00|AFWTR|1959-09-28 00:00:00|    89.1|      79.99|   323.0|  137.0|   null|       null|       0|    null|   1|       1959|         5|           A|      Y|        DISCOVERER 5|1959-005A|           18|\n",
      "|1959-006A|          19|    PAYLOAD|        DISCOVERER 6|     US|1959-08-19 00:00:00|AFWTR|1959-10-20 00:00:00|   90.92|       84.0|   469.0|  171.0|   null|       null|       0|    null|   1|       1959|         6|           A|      Y|        DISCOVERER 6|1959-006A|           19|\n",
      "|1959-008A|          21|    PAYLOAD|              LUNA 3|    CIS|1959-10-04 00:00:00|TTMTR|1960-04-20 00:00:00|21563.22|       55.0|499998.0|  500.0|   null|       null|       0|    null|   1|       1959|         8|           A|      Y|              LUNA 3|1959-008A|           21|\n",
      "|1959-010A|          24|    PAYLOAD|        DISCOVERER 7|     US|1959-11-07 00:00:00|AFWTR|1959-11-26 00:00:00|   91.54|      81.64|   539.0|  161.0|   null|       null|       0|    null|   1|       1959|        10|           A|      Y|        DISCOVERER 7|1959-010A|           24|\n",
      "|1959-011A|          25|    PAYLOAD|        DISCOVERER 8|     US|1959-11-20 00:00:00|AFWTR|1960-03-08 00:00:00|   88.03|      80.65|   239.0|  115.0|   null|       null|       0|    null|   1|       1959|        11|           A|      Y|        DISCOVERER 8|1959-011A|           25|\n",
      "|1959-005B|          26|    PAYLOAD|DISCOVERER 5 CAPSULE|     US|1959-08-13 00:00:00|AFWTR|1961-02-11 00:00:00|   88.73|      78.94|   280.0|  143.0|   null|       null|       0|    null|   1|       1959|         5|           B|      Y|DISCOVERER 5 CAPSULE|1959-005B|           26|\n",
      "|1960-003A|          30|ROCKET BODY|   THOR ABLESTAR R/B|     US|1960-04-13 00:00:00|AFETR|1961-08-18 00:00:00|   88.38|      51.25|   194.0|  194.0|   null|       null|       0|    null|   1|       1960|         3|           A|      Y|   THOR ABLESTAR R/B|1960-003A|           30|\n",
      "|1960-003B|          31|    PAYLOAD|          TRANSIT 1B|     US|1960-04-13 00:00:00|AFETR|1967-10-05 00:00:00|    88.7|       51.2|   220.0|  201.0|   null|       null|       0|    null|   1|       1960|         3|           B|      Y|          TRANSIT 1B|1960-003B|           31|\n",
      "|1960-004A|          32|    PAYLOAD|       DISCOVERER 11|     US|1960-04-15 00:00:00|AFWTR|1960-04-26 00:00:00|    89.7|       80.1|   377.0|  142.0|   null|       null|       0|    null|   1|       1960|         4|           A|      Y|       DISCOVERER 11|1960-004A|           32|\n",
      "+---------+------------+-----------+--------------------+-------+-------------------+-----+-------------------+--------+-----------+--------+-------+-------+-----------+--------+--------+----+-----------+----------+------------+-------+--------------------+---------+-------------+\n",
      "only showing top 20 rows\n",
      "\n"
     ]
    }
   ],
   "source": [
    "dfspark."
   ]
  },
  {
   "cell_type": "code",
   "execution_count": 155,
   "id": "e0628f02",
   "metadata": {},
   "outputs": [
    {
     "data": {
      "text/plain": [
       "[Row(INTLDES='1957-001A', NORAD_CAT_ID=1, OBJECT_TYPE='ROCKET BODY', SATNAME='SL-1 R/B', COUNTRY='CIS', LAUNCH=datetime.datetime(1957, 10, 4, 0, 0), SITE='TTMTR', DECAY=datetime.datetime(1957, 12, 1, 0, 0), PERIOD=96.19, INCLINATION=65.1, APOGEE=938.0, PERIGEE=214.0, COMMENT=None, COMMENTCODE=4.0, RCSVALUE=0, RCS_SIZE='LARGE', FILE=1, LAUNCH_YEAR=1957, LAUNCH_NUM=1, LAUNCH_PIECE='A', CURRENT='Y', OBJECT_NAME='SL-1 R/B', OBJECT_ID='1957-001A', OBJECT_NUMBER=1),\n",
       " Row(INTLDES='1958-001A', NORAD_CAT_ID=4, OBJECT_TYPE='PAYLOAD', SATNAME='EXPLORER 1', COUNTRY='US', LAUNCH=datetime.datetime(1958, 2, 1, 0, 0), SITE='AFETR', DECAY=datetime.datetime(1970, 3, 31, 0, 0), PERIOD=88.48, INCLINATION=33.15, APOGEE=215.0, PERIGEE=183.0, COMMENT=None, COMMENTCODE=None, RCSVALUE=0, RCS_SIZE=None, FILE=1, LAUNCH_YEAR=1958, LAUNCH_NUM=1, LAUNCH_PIECE='A', CURRENT='Y', OBJECT_NAME='EXPLORER 1', OBJECT_ID='1958-001A', OBJECT_NUMBER=4),\n",
       " Row(INTLDES='1958-003A', NORAD_CAT_ID=6, OBJECT_TYPE='PAYLOAD', SATNAME='EXPLORER 3', COUNTRY='US', LAUNCH=datetime.datetime(1958, 3, 26, 0, 0), SITE='AFETR', DECAY=datetime.datetime(1958, 6, 28, 0, 0), PERIOD=103.6, INCLINATION=33.5, APOGEE=1739.0, PERIGEE=117.0, COMMENT=None, COMMENTCODE=5.0, RCSVALUE=0, RCS_SIZE=None, FILE=1, LAUNCH_YEAR=1958, LAUNCH_NUM=3, LAUNCH_PIECE='A', CURRENT='Y', OBJECT_NAME='EXPLORER 3', OBJECT_ID='1958-003A', OBJECT_NUMBER=6)]"
      ]
     },
     "execution_count": 155,
     "metadata": {},
     "output_type": "execute_result"
    }
   ],
   "source": [
    "dfspark.head(3)"
   ]
  },
  {
   "cell_type": "code",
   "execution_count": 4,
   "id": "b8db5c49",
   "metadata": {},
   "outputs": [
    {
     "name": "stderr",
     "output_type": "stream",
     "text": [
      "                                                                                \r"
     ]
    },
    {
     "data": {
      "text/plain": [
       "DataFrame[summary: string, INTLDES: string, NORAD_CAT_ID: string, OBJECT_TYPE: string, SATNAME: string, COUNTRY: string, SITE: string, PERIOD: string, INCLINATION: string, APOGEE: string, PERIGEE: string, COMMENT: string, COMMENTCODE: string, RCSVALUE: string, RCS_SIZE: string, FILE: string, LAUNCH_YEAR: string, LAUNCH_NUM: string, LAUNCH_PIECE: string, CURRENT: string, OBJECT_NAME: string, OBJECT_ID: string, OBJECT_NUMBER: string]"
      ]
     },
     "execution_count": 4,
     "metadata": {},
     "output_type": "execute_result"
    }
   ],
   "source": [
    "dfspark.describe()"
   ]
  },
  {
   "cell_type": "code",
   "execution_count": 13,
   "id": "df102503",
   "metadata": {},
   "outputs": [],
   "source": [
    "#Drop columns 'COMMENT', 'COMMENTCODE', 'RCSVALUE', 'RCS_SIZE'\n",
    "\n",
    "dfspark = dfspark.drop('COMMENT', 'COMMENTCODE', 'RCSVALUE', 'RCS_SIZE')"
   ]
  },
  {
   "cell_type": "code",
   "execution_count": 14,
   "id": "ea8791d7",
   "metadata": {},
   "outputs": [
    {
     "name": "stdout",
     "output_type": "stream",
     "text": [
      "+---------+------------+-----------+--------------------+-------+-------------------+-----+-------------------+--------+-----------+--------+-------+----+-----------+----------+------------+-------+--------------------+---------+-------------+\n",
      "|  INTLDES|NORAD_CAT_ID|OBJECT_TYPE|             SATNAME|COUNTRY|             LAUNCH| SITE|              DECAY|  PERIOD|INCLINATION|  APOGEE|PERIGEE|FILE|LAUNCH_YEAR|LAUNCH_NUM|LAUNCH_PIECE|CURRENT|         OBJECT_NAME|OBJECT_ID|OBJECT_NUMBER|\n",
      "+---------+------------+-----------+--------------------+-------+-------------------+-----+-------------------+--------+-----------+--------+-------+----+-----------+----------+------------+-------+--------------------+---------+-------------+\n",
      "|1957-001A|           1|ROCKET BODY|            SL-1 R/B|    CIS|1957-10-04 00:00:00|TTMTR|1957-12-01 00:00:00|   96.19|       65.1|   938.0|  214.0|   1|       1957|         1|           A|      Y|            SL-1 R/B|1957-001A|            1|\n",
      "|1958-001A|           4|    PAYLOAD|          EXPLORER 1|     US|1958-02-01 00:00:00|AFETR|1970-03-31 00:00:00|   88.48|      33.15|   215.0|  183.0|   1|       1958|         1|           A|      Y|          EXPLORER 1|1958-001A|            4|\n",
      "|1958-003A|           6|    PAYLOAD|          EXPLORER 3|     US|1958-03-26 00:00:00|AFETR|1958-06-28 00:00:00|   103.6|       33.5|  1739.0|  117.0|   1|       1958|         3|           A|      Y|          EXPLORER 3|1958-003A|            6|\n",
      "|1958-004A|           7|ROCKET BODY|            SL-1 R/B|    CIS|1958-05-15 00:00:00|TTMTR|1958-12-03 00:00:00|  102.74|      65.14|  1571.0|  206.0|   1|       1958|         4|           A|      Y|            SL-1 R/B|1958-004A|            7|\n",
      "|1958-004B|           8|    PAYLOAD|           SPUTNIK 3|    CIS|1958-05-15 00:00:00|TTMTR|1960-04-06 00:00:00|   88.43|      65.06|   255.0|  139.0|   1|       1958|         4|           B|      Y|           SPUTNIK 3|1958-004B|            8|\n",
      "|1958-005A|           9|    PAYLOAD|          EXPLORER 4|     US|1958-07-26 00:00:00|AFETR|1959-10-23 00:00:00|   92.81|      50.25|   585.0|  239.0|   1|       1958|         5|           A|      Y|          EXPLORER 4|1958-005A|            9|\n",
      "|1958-006A|          10|    PAYLOAD|               SCORE|     US|1958-12-18 00:00:00|AFETR|1959-01-21 00:00:00|   98.21|      32.29|  1187.0|  159.0|   1|       1958|         6|           A|      Y|               SCORE|1958-006A|           10|\n",
      "|1959-002A|          13|    PAYLOAD|        DISCOVERER 1|     US|1959-02-28 00:00:00|AFWTR|1959-03-03 00:00:00|    92.7|       90.0|   697.0|  114.0|   1|       1959|         2|           A|      Y|        DISCOVERER 1|1959-002A|           13|\n",
      "|1959-003A|          14|    PAYLOAD|        DISCOVERER 2|     US|1959-04-13 00:00:00|AFWTR|1959-04-26 00:00:00|    90.4|       89.9|   346.0|  239.0|   1|       1959|         3|           A|      Y|        DISCOVERER 2|1959-003A|           14|\n",
      "|1959-004A|          15|    PAYLOAD|          EXPLORER 6|     US|1959-08-07 00:00:00|AFETR|1961-06-30 00:00:00|  762.25|      46.95| 42276.0|  251.0|   1|       1959|         4|           A|      Y|          EXPLORER 6|1959-004A|           15|\n",
      "|1959-004B|          17|ROCKET BODY|       THOR ABLE R/B|     US|1959-08-07 00:00:00|AFETR|1961-06-30 00:00:00|  718.96|       47.1| 40215.0|  198.0|   1|       1959|         4|           B|      Y|       THOR ABLE R/B|1959-004B|           17|\n",
      "|1959-005A|          18|    PAYLOAD|        DISCOVERER 5|     US|1959-08-13 00:00:00|AFWTR|1959-09-28 00:00:00|    89.1|      79.99|   323.0|  137.0|   1|       1959|         5|           A|      Y|        DISCOVERER 5|1959-005A|           18|\n",
      "|1959-006A|          19|    PAYLOAD|        DISCOVERER 6|     US|1959-08-19 00:00:00|AFWTR|1959-10-20 00:00:00|   90.92|       84.0|   469.0|  171.0|   1|       1959|         6|           A|      Y|        DISCOVERER 6|1959-006A|           19|\n",
      "|1959-008A|          21|    PAYLOAD|              LUNA 3|    CIS|1959-10-04 00:00:00|TTMTR|1960-04-20 00:00:00|21563.22|       55.0|499998.0|  500.0|   1|       1959|         8|           A|      Y|              LUNA 3|1959-008A|           21|\n",
      "|1959-010A|          24|    PAYLOAD|        DISCOVERER 7|     US|1959-11-07 00:00:00|AFWTR|1959-11-26 00:00:00|   91.54|      81.64|   539.0|  161.0|   1|       1959|        10|           A|      Y|        DISCOVERER 7|1959-010A|           24|\n",
      "|1959-011A|          25|    PAYLOAD|        DISCOVERER 8|     US|1959-11-20 00:00:00|AFWTR|1960-03-08 00:00:00|   88.03|      80.65|   239.0|  115.0|   1|       1959|        11|           A|      Y|        DISCOVERER 8|1959-011A|           25|\n",
      "|1959-005B|          26|    PAYLOAD|DISCOVERER 5 CAPSULE|     US|1959-08-13 00:00:00|AFWTR|1961-02-11 00:00:00|   88.73|      78.94|   280.0|  143.0|   1|       1959|         5|           B|      Y|DISCOVERER 5 CAPSULE|1959-005B|           26|\n",
      "|1960-003A|          30|ROCKET BODY|   THOR ABLESTAR R/B|     US|1960-04-13 00:00:00|AFETR|1961-08-18 00:00:00|   88.38|      51.25|   194.0|  194.0|   1|       1960|         3|           A|      Y|   THOR ABLESTAR R/B|1960-003A|           30|\n",
      "|1960-003B|          31|    PAYLOAD|          TRANSIT 1B|     US|1960-04-13 00:00:00|AFETR|1967-10-05 00:00:00|    88.7|       51.2|   220.0|  201.0|   1|       1960|         3|           B|      Y|          TRANSIT 1B|1960-003B|           31|\n",
      "|1960-004A|          32|    PAYLOAD|       DISCOVERER 11|     US|1960-04-15 00:00:00|AFWTR|1960-04-26 00:00:00|    89.7|       80.1|   377.0|  142.0|   1|       1960|         4|           A|      Y|       DISCOVERER 11|1960-004A|           32|\n",
      "+---------+------------+-----------+--------------------+-------+-------------------+-----+-------------------+--------+-----------+--------+-------+----+-----------+----------+------------+-------+--------------------+---------+-------------+\n",
      "only showing top 20 rows\n",
      "\n"
     ]
    }
   ],
   "source": [
    "dfspark.show()"
   ]
  },
  {
   "cell_type": "code",
   "execution_count": null,
   "id": "82f13265",
   "metadata": {},
   "outputs": [],
   "source": []
  }
 ],
 "metadata": {
  "kernelspec": {
   "display_name": "Python 3 (ipykernel)",
   "language": "python",
   "name": "python3"
  },
  "language_info": {
   "codemirror_mode": {
    "name": "ipython",
    "version": 3
   },
   "file_extension": ".py",
   "mimetype": "text/x-python",
   "name": "python",
   "nbconvert_exporter": "python",
   "pygments_lexer": "ipython3",
   "version": "3.11.2"
  }
 },
 "nbformat": 4,
 "nbformat_minor": 5
}
