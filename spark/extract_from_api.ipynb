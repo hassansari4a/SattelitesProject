{
 "cells": [
  {
   "cell_type": "code",
   "execution_count": 1,
   "id": "951dd777",
   "metadata": {},
   "outputs": [],
   "source": [
    "from spacetrack import SpaceTrackClient\n",
    "import pandas as pd\n",
    "\n",
    "from pyspark.sql import SparkSession, types"
   ]
  },
  {
   "cell_type": "code",
   "execution_count": 2,
   "id": "fc27d108",
   "metadata": {},
   "outputs": [
    {
     "name": "stderr",
     "output_type": "stream",
     "text": [
      "Setting default log level to \"WARN\".\n",
      "To adjust logging level use sc.setLogLevel(newLevel). For SparkR, use setLogLevel(newLevel).\n"
     ]
    },
    {
     "name": "stdout",
     "output_type": "stream",
     "text": [
      "23/04/05 13:27:24 WARN NativeCodeLoader: Unable to load native-hadoop library for your platform... using builtin-java classes where applicable\n"
     ]
    }
   ],
   "source": [
    "spark = SparkSession.builder.appName('SattelitesProject').getOrCreate()\n",
    "\n",
    "st = SpaceTrackClient('hassansari4a@gmail.com', '9817377317NCELL')"
   ]
  },
  {
   "cell_type": "code",
   "execution_count": 148,
   "id": "7f96c207",
   "metadata": {
    "scrolled": true
   },
   "outputs": [],
   "source": [
    "csvfile = st.satcat(format='csv')"
   ]
  },
  {
   "cell_type": "code",
   "execution_count": 149,
   "id": "ead3208c",
   "metadata": {},
   "outputs": [],
   "source": [
    "with open('my_file.csv', 'w') as my_file:\n",
    "    my_file.write(csvfile)"
   ]
  },
  {
   "cell_type": "code",
   "execution_count": 150,
   "id": "f154bb39",
   "metadata": {
    "scrolled": true
   },
   "outputs": [
    {
     "name": "stderr",
     "output_type": "stream",
     "text": [
      "/var/folders/27/yj55qwjs7md5w890736t7nc40000gn/T/ipykernel_19454/1457401881.py:1: DtypeWarning: Columns (12) have mixed types. Specify dtype option on import or set low_memory=False.\n",
      "  df99 = pd.read_csv('my_file.csv')\n"
     ]
    }
   ],
   "source": [
    "df99 = pd.read_csv('my_file.csv')\n",
    "df99.to_csv('satcatdata.csv', index=False)"
   ]
  },
  {
   "cell_type": "code",
   "execution_count": 3,
   "id": "d32497c2",
   "metadata": {},
   "outputs": [
    {
     "name": "stderr",
     "output_type": "stream",
     "text": [
      "                                                                                \r"
     ]
    }
   ],
   "source": [
    "dfspark = spark.read.format(\"csv\") \\\n",
    "                   .option(\"delimiter\", \",\") \\\n",
    "                   .option(\"header\", \"true\") \\\n",
    "                   .option(\"inferSchema\", \"true\") \\\n",
    "                   .load(\"satcatdata.csv\")"
   ]
  },
  {
   "cell_type": "code",
   "execution_count": 152,
   "id": "c99a6631",
   "metadata": {},
   "outputs": [
    {
     "name": "stdout",
     "output_type": "stream",
     "text": [
      "+---------+------------+-----------+--------------------+-------+-------------------+-----+-------------------+--------+-----------+--------+-------+-------+-----------+--------+--------+----+-----------+----------+------------+-------+--------------------+---------+-------------+\n",
      "|  INTLDES|NORAD_CAT_ID|OBJECT_TYPE|             SATNAME|COUNTRY|             LAUNCH| SITE|              DECAY|  PERIOD|INCLINATION|  APOGEE|PERIGEE|COMMENT|COMMENTCODE|RCSVALUE|RCS_SIZE|FILE|LAUNCH_YEAR|LAUNCH_NUM|LAUNCH_PIECE|CURRENT|         OBJECT_NAME|OBJECT_ID|OBJECT_NUMBER|\n",
      "+---------+------------+-----------+--------------------+-------+-------------------+-----+-------------------+--------+-----------+--------+-------+-------+-----------+--------+--------+----+-----------+----------+------------+-------+--------------------+---------+-------------+\n",
      "|1957-001A|           1|ROCKET BODY|            SL-1 R/B|    CIS|1957-10-04 00:00:00|TTMTR|1957-12-01 00:00:00|   96.19|       65.1|   938.0|  214.0|   null|        4.0|       0|   LARGE|   1|       1957|         1|           A|      Y|            SL-1 R/B|1957-001A|            1|\n",
      "|1958-001A|           4|    PAYLOAD|          EXPLORER 1|     US|1958-02-01 00:00:00|AFETR|1970-03-31 00:00:00|   88.48|      33.15|   215.0|  183.0|   null|       null|       0|    null|   1|       1958|         1|           A|      Y|          EXPLORER 1|1958-001A|            4|\n",
      "|1958-003A|           6|    PAYLOAD|          EXPLORER 3|     US|1958-03-26 00:00:00|AFETR|1958-06-28 00:00:00|   103.6|       33.5|  1739.0|  117.0|   null|        5.0|       0|    null|   1|       1958|         3|           A|      Y|          EXPLORER 3|1958-003A|            6|\n",
      "|1958-004A|           7|ROCKET BODY|            SL-1 R/B|    CIS|1958-05-15 00:00:00|TTMTR|1958-12-03 00:00:00|  102.74|      65.14|  1571.0|  206.0|   null|       null|       0|    null|   1|       1958|         4|           A|      Y|            SL-1 R/B|1958-004A|            7|\n",
      "|1958-004B|           8|    PAYLOAD|           SPUTNIK 3|    CIS|1958-05-15 00:00:00|TTMTR|1960-04-06 00:00:00|   88.43|      65.06|   255.0|  139.0|   null|       null|       0|   LARGE|   1|       1958|         4|           B|      Y|           SPUTNIK 3|1958-004B|            8|\n",
      "|1958-005A|           9|    PAYLOAD|          EXPLORER 4|     US|1958-07-26 00:00:00|AFETR|1959-10-23 00:00:00|   92.81|      50.25|   585.0|  239.0|   null|       null|       0|    null|   1|       1958|         5|           A|      Y|          EXPLORER 4|1958-005A|            9|\n",
      "|1958-006A|          10|    PAYLOAD|               SCORE|     US|1958-12-18 00:00:00|AFETR|1959-01-21 00:00:00|   98.21|      32.29|  1187.0|  159.0|   null|       null|       0|    null|   1|       1958|         6|           A|      Y|               SCORE|1958-006A|           10|\n",
      "|1959-002A|          13|    PAYLOAD|        DISCOVERER 1|     US|1959-02-28 00:00:00|AFWTR|1959-03-03 00:00:00|    92.7|       90.0|   697.0|  114.0|   null|        5.0|       0|    null|   1|       1959|         2|           A|      Y|        DISCOVERER 1|1959-002A|           13|\n",
      "|1959-003A|          14|    PAYLOAD|        DISCOVERER 2|     US|1959-04-13 00:00:00|AFWTR|1959-04-26 00:00:00|    90.4|       89.9|   346.0|  239.0|   null|        5.0|       0|    null|   1|       1959|         3|           A|      Y|        DISCOVERER 2|1959-003A|           14|\n",
      "|1959-004A|          15|    PAYLOAD|          EXPLORER 6|     US|1959-08-07 00:00:00|AFETR|1961-06-30 00:00:00|  762.25|      46.95| 42276.0|  251.0|   null|       null|       0|    null|   1|       1959|         4|           A|      Y|          EXPLORER 6|1959-004A|           15|\n",
      "|1959-004B|          17|ROCKET BODY|       THOR ABLE R/B|     US|1959-08-07 00:00:00|AFETR|1961-06-30 00:00:00|  718.96|       47.1| 40215.0|  198.0|   null|       null|       0|   SMALL|   1|       1959|         4|           B|      Y|       THOR ABLE R/B|1959-004B|           17|\n",
      "|1959-005A|          18|    PAYLOAD|        DISCOVERER 5|     US|1959-08-13 00:00:00|AFWTR|1959-09-28 00:00:00|    89.1|      79.99|   323.0|  137.0|   null|       null|       0|    null|   1|       1959|         5|           A|      Y|        DISCOVERER 5|1959-005A|           18|\n",
      "|1959-006A|          19|    PAYLOAD|        DISCOVERER 6|     US|1959-08-19 00:00:00|AFWTR|1959-10-20 00:00:00|   90.92|       84.0|   469.0|  171.0|   null|       null|       0|    null|   1|       1959|         6|           A|      Y|        DISCOVERER 6|1959-006A|           19|\n",
      "|1959-008A|          21|    PAYLOAD|              LUNA 3|    CIS|1959-10-04 00:00:00|TTMTR|1960-04-20 00:00:00|21563.22|       55.0|499998.0|  500.0|   null|       null|       0|    null|   1|       1959|         8|           A|      Y|              LUNA 3|1959-008A|           21|\n",
      "|1959-010A|          24|    PAYLOAD|        DISCOVERER 7|     US|1959-11-07 00:00:00|AFWTR|1959-11-26 00:00:00|   91.54|      81.64|   539.0|  161.0|   null|       null|       0|    null|   1|       1959|        10|           A|      Y|        DISCOVERER 7|1959-010A|           24|\n",
      "|1959-011A|          25|    PAYLOAD|        DISCOVERER 8|     US|1959-11-20 00:00:00|AFWTR|1960-03-08 00:00:00|   88.03|      80.65|   239.0|  115.0|   null|       null|       0|    null|   1|       1959|        11|           A|      Y|        DISCOVERER 8|1959-011A|           25|\n",
      "|1959-005B|          26|    PAYLOAD|DISCOVERER 5 CAPSULE|     US|1959-08-13 00:00:00|AFWTR|1961-02-11 00:00:00|   88.73|      78.94|   280.0|  143.0|   null|       null|       0|    null|   1|       1959|         5|           B|      Y|DISCOVERER 5 CAPSULE|1959-005B|           26|\n",
      "|1960-003A|          30|ROCKET BODY|   THOR ABLESTAR R/B|     US|1960-04-13 00:00:00|AFETR|1961-08-18 00:00:00|   88.38|      51.25|   194.0|  194.0|   null|       null|       0|    null|   1|       1960|         3|           A|      Y|   THOR ABLESTAR R/B|1960-003A|           30|\n",
      "|1960-003B|          31|    PAYLOAD|          TRANSIT 1B|     US|1960-04-13 00:00:00|AFETR|1967-10-05 00:00:00|    88.7|       51.2|   220.0|  201.0|   null|       null|       0|    null|   1|       1960|         3|           B|      Y|          TRANSIT 1B|1960-003B|           31|\n",
      "|1960-004A|          32|    PAYLOAD|       DISCOVERER 11|     US|1960-04-15 00:00:00|AFWTR|1960-04-26 00:00:00|    89.7|       80.1|   377.0|  142.0|   null|       null|       0|    null|   1|       1960|         4|           A|      Y|       DISCOVERER 11|1960-004A|           32|\n",
      "+---------+------------+-----------+--------------------+-------+-------------------+-----+-------------------+--------+-----------+--------+-------+-------+-----------+--------+--------+----+-----------+----------+------------+-------+--------------------+---------+-------------+\n",
      "only showing top 20 rows\n",
      "\n"
     ]
    }
   ],
   "source": [
    "dfspark."
   ]
  },
  {
   "cell_type": "code",
   "execution_count": 155,
   "id": "e0628f02",
   "metadata": {},
   "outputs": [
    {
     "data": {
      "text/plain": [
       "[Row(INTLDES='1957-001A', NORAD_CAT_ID=1, OBJECT_TYPE='ROCKET BODY', SATNAME='SL-1 R/B', COUNTRY='CIS', LAUNCH=datetime.datetime(1957, 10, 4, 0, 0), SITE='TTMTR', DECAY=datetime.datetime(1957, 12, 1, 0, 0), PERIOD=96.19, INCLINATION=65.1, APOGEE=938.0, PERIGEE=214.0, COMMENT=None, COMMENTCODE=4.0, RCSVALUE=0, RCS_SIZE='LARGE', FILE=1, LAUNCH_YEAR=1957, LAUNCH_NUM=1, LAUNCH_PIECE='A', CURRENT='Y', OBJECT_NAME='SL-1 R/B', OBJECT_ID='1957-001A', OBJECT_NUMBER=1),\n",
       " Row(INTLDES='1958-001A', NORAD_CAT_ID=4, OBJECT_TYPE='PAYLOAD', SATNAME='EXPLORER 1', COUNTRY='US', LAUNCH=datetime.datetime(1958, 2, 1, 0, 0), SITE='AFETR', DECAY=datetime.datetime(1970, 3, 31, 0, 0), PERIOD=88.48, INCLINATION=33.15, APOGEE=215.0, PERIGEE=183.0, COMMENT=None, COMMENTCODE=None, RCSVALUE=0, RCS_SIZE=None, FILE=1, LAUNCH_YEAR=1958, LAUNCH_NUM=1, LAUNCH_PIECE='A', CURRENT='Y', OBJECT_NAME='EXPLORER 1', OBJECT_ID='1958-001A', OBJECT_NUMBER=4),\n",
       " Row(INTLDES='1958-003A', NORAD_CAT_ID=6, OBJECT_TYPE='PAYLOAD', SATNAME='EXPLORER 3', COUNTRY='US', LAUNCH=datetime.datetime(1958, 3, 26, 0, 0), SITE='AFETR', DECAY=datetime.datetime(1958, 6, 28, 0, 0), PERIOD=103.6, INCLINATION=33.5, APOGEE=1739.0, PERIGEE=117.0, COMMENT=None, COMMENTCODE=5.0, RCSVALUE=0, RCS_SIZE=None, FILE=1, LAUNCH_YEAR=1958, LAUNCH_NUM=3, LAUNCH_PIECE='A', CURRENT='Y', OBJECT_NAME='EXPLORER 3', OBJECT_ID='1958-003A', OBJECT_NUMBER=6)]"
      ]
     },
     "execution_count": 155,
     "metadata": {},
     "output_type": "execute_result"
    }
   ],
   "source": [
    "dfspark.head(3)"
   ]
  },
  {
   "cell_type": "code",
   "execution_count": 4,
   "id": "b8db5c49",
   "metadata": {},
   "outputs": [
    {
     "name": "stderr",
     "output_type": "stream",
     "text": [
      "                                                                                \r"
     ]
    },
    {
     "data": {
      "text/plain": [
       "DataFrame[summary: string, INTLDES: string, NORAD_CAT_ID: string, OBJECT_TYPE: string, SATNAME: string, COUNTRY: string, SITE: string, PERIOD: string, INCLINATION: string, APOGEE: string, PERIGEE: string, COMMENT: string, COMMENTCODE: string, RCSVALUE: string, RCS_SIZE: string, FILE: string, LAUNCH_YEAR: string, LAUNCH_NUM: string, LAUNCH_PIECE: string, CURRENT: string, OBJECT_NAME: string, OBJECT_ID: string, OBJECT_NUMBER: string]"
      ]
     },
     "execution_count": 4,
     "metadata": {},
     "output_type": "execute_result"
    }
   ],
   "source": [
    "dfspark.describe()"
   ]
  },
  {
   "cell_type": "code",
   "execution_count": 13,
   "id": "df102503",
   "metadata": {},
   "outputs": [],
   "source": [
    "#Drop columns 'COMMENT', 'COMMENTCODE', 'RCSVALUE', 'RCS_SIZE'\n",
    "\n",
    "dfspark = dfspark.drop('COMMENT', 'COMMENTCODE', 'RCSVALUE', 'RCS_SIZE')"
   ]
  },
  {
   "cell_type": "code",
   "execution_count": 14,
   "id": "eba3b585",
   "metadata": {},
   "outputs": [
    {
     "name": "stdout",
     "output_type": "stream",
     "text": [
      "+---------+------------+-----------+--------------------+-------+-------------------+-----+-------------------+--------+-----------+--------+-------+----+-----------+----------+------------+-------+--------------------+---------+-------------+\n",
      "|  INTLDES|NORAD_CAT_ID|OBJECT_TYPE|             SATNAME|COUNTRY|             LAUNCH| SITE|              DECAY|  PERIOD|INCLINATION|  APOGEE|PERIGEE|FILE|LAUNCH_YEAR|LAUNCH_NUM|LAUNCH_PIECE|CURRENT|         OBJECT_NAME|OBJECT_ID|OBJECT_NUMBER|\n",
      "+---------+------------+-----------+--------------------+-------+-------------------+-----+-------------------+--------+-----------+--------+-------+----+-----------+----------+------------+-------+--------------------+---------+-------------+\n",
      "|1957-001A|           1|ROCKET BODY|            SL-1 R/B|    CIS|1957-10-04 00:00:00|TTMTR|1957-12-01 00:00:00|   96.19|       65.1|   938.0|  214.0|   1|       1957|         1|           A|      Y|            SL-1 R/B|1957-001A|            1|\n",
      "|1958-001A|           4|    PAYLOAD|          EXPLORER 1|     US|1958-02-01 00:00:00|AFETR|1970-03-31 00:00:00|   88.48|      33.15|   215.0|  183.0|   1|       1958|         1|           A|      Y|          EXPLORER 1|1958-001A|            4|\n",
      "|1958-003A|           6|    PAYLOAD|          EXPLORER 3|     US|1958-03-26 00:00:00|AFETR|1958-06-28 00:00:00|   103.6|       33.5|  1739.0|  117.0|   1|       1958|         3|           A|      Y|          EXPLORER 3|1958-003A|            6|\n",
      "|1958-004A|           7|ROCKET BODY|            SL-1 R/B|    CIS|1958-05-15 00:00:00|TTMTR|1958-12-03 00:00:00|  102.74|      65.14|  1571.0|  206.0|   1|       1958|         4|           A|      Y|            SL-1 R/B|1958-004A|            7|\n",
      "|1958-004B|           8|    PAYLOAD|           SPUTNIK 3|    CIS|1958-05-15 00:00:00|TTMTR|1960-04-06 00:00:00|   88.43|      65.06|   255.0|  139.0|   1|       1958|         4|           B|      Y|           SPUTNIK 3|1958-004B|            8|\n",
      "|1958-005A|           9|    PAYLOAD|          EXPLORER 4|     US|1958-07-26 00:00:00|AFETR|1959-10-23 00:00:00|   92.81|      50.25|   585.0|  239.0|   1|       1958|         5|           A|      Y|          EXPLORER 4|1958-005A|            9|\n",
      "|1958-006A|          10|    PAYLOAD|               SCORE|     US|1958-12-18 00:00:00|AFETR|1959-01-21 00:00:00|   98.21|      32.29|  1187.0|  159.0|   1|       1958|         6|           A|      Y|               SCORE|1958-006A|           10|\n",
      "|1959-002A|          13|    PAYLOAD|        DISCOVERER 1|     US|1959-02-28 00:00:00|AFWTR|1959-03-03 00:00:00|    92.7|       90.0|   697.0|  114.0|   1|       1959|         2|           A|      Y|        DISCOVERER 1|1959-002A|           13|\n",
      "|1959-003A|          14|    PAYLOAD|        DISCOVERER 2|     US|1959-04-13 00:00:00|AFWTR|1959-04-26 00:00:00|    90.4|       89.9|   346.0|  239.0|   1|       1959|         3|           A|      Y|        DISCOVERER 2|1959-003A|           14|\n",
      "|1959-004A|          15|    PAYLOAD|          EXPLORER 6|     US|1959-08-07 00:00:00|AFETR|1961-06-30 00:00:00|  762.25|      46.95| 42276.0|  251.0|   1|       1959|         4|           A|      Y|          EXPLORER 6|1959-004A|           15|\n",
      "|1959-004B|          17|ROCKET BODY|       THOR ABLE R/B|     US|1959-08-07 00:00:00|AFETR|1961-06-30 00:00:00|  718.96|       47.1| 40215.0|  198.0|   1|       1959|         4|           B|      Y|       THOR ABLE R/B|1959-004B|           17|\n",
      "|1959-005A|          18|    PAYLOAD|        DISCOVERER 5|     US|1959-08-13 00:00:00|AFWTR|1959-09-28 00:00:00|    89.1|      79.99|   323.0|  137.0|   1|       1959|         5|           A|      Y|        DISCOVERER 5|1959-005A|           18|\n",
      "|1959-006A|          19|    PAYLOAD|        DISCOVERER 6|     US|1959-08-19 00:00:00|AFWTR|1959-10-20 00:00:00|   90.92|       84.0|   469.0|  171.0|   1|       1959|         6|           A|      Y|        DISCOVERER 6|1959-006A|           19|\n",
      "|1959-008A|          21|    PAYLOAD|              LUNA 3|    CIS|1959-10-04 00:00:00|TTMTR|1960-04-20 00:00:00|21563.22|       55.0|499998.0|  500.0|   1|       1959|         8|           A|      Y|              LUNA 3|1959-008A|           21|\n",
      "|1959-010A|          24|    PAYLOAD|        DISCOVERER 7|     US|1959-11-07 00:00:00|AFWTR|1959-11-26 00:00:00|   91.54|      81.64|   539.0|  161.0|   1|       1959|        10|           A|      Y|        DISCOVERER 7|1959-010A|           24|\n",
      "|1959-011A|          25|    PAYLOAD|        DISCOVERER 8|     US|1959-11-20 00:00:00|AFWTR|1960-03-08 00:00:00|   88.03|      80.65|   239.0|  115.0|   1|       1959|        11|           A|      Y|        DISCOVERER 8|1959-011A|           25|\n",
      "|1959-005B|          26|    PAYLOAD|DISCOVERER 5 CAPSULE|     US|1959-08-13 00:00:00|AFWTR|1961-02-11 00:00:00|   88.73|      78.94|   280.0|  143.0|   1|       1959|         5|           B|      Y|DISCOVERER 5 CAPSULE|1959-005B|           26|\n",
      "|1960-003A|          30|ROCKET BODY|   THOR ABLESTAR R/B|     US|1960-04-13 00:00:00|AFETR|1961-08-18 00:00:00|   88.38|      51.25|   194.0|  194.0|   1|       1960|         3|           A|      Y|   THOR ABLESTAR R/B|1960-003A|           30|\n",
      "|1960-003B|          31|    PAYLOAD|          TRANSIT 1B|     US|1960-04-13 00:00:00|AFETR|1967-10-05 00:00:00|    88.7|       51.2|   220.0|  201.0|   1|       1960|         3|           B|      Y|          TRANSIT 1B|1960-003B|           31|\n",
      "|1960-004A|          32|    PAYLOAD|       DISCOVERER 11|     US|1960-04-15 00:00:00|AFWTR|1960-04-26 00:00:00|    89.7|       80.1|   377.0|  142.0|   1|       1960|         4|           A|      Y|       DISCOVERER 11|1960-004A|           32|\n",
      "+---------+------------+-----------+--------------------+-------+-------------------+-----+-------------------+--------+-----------+--------+-------+----+-----------+----------+------------+-------+--------------------+---------+-------------+\n",
      "only showing top 20 rows\n",
      "\n"
     ]
    }
   ],
   "source": [
    "dfspark.show()"
   ]
  },
  {
   "cell_type": "code",
   "execution_count": 25,
   "id": "f58d2725",
   "metadata": {},
   "outputs": [
    {
     "name": "stderr",
     "output_type": "stream",
     "text": [
      "                                                                                \r"
     ]
    },
    {
     "data": {
      "text/plain": [
       "DataFrame[summary: string, INTLDES: string, NORAD_CAT_ID: string, OBJECT_TYPE: string, SATNAME: string, COUNTRY: string, SITE: string, PERIOD: string, INCLINATION: string, APOGEE: string, PERIGEE: string, FILE: string, LAUNCH_YEAR: string, LAUNCH_NUM: string, LAUNCH_PIECE: string, CURRENT: string, OBJECT_NAME: string, OBJECT_ID: string, OBJECT_NUMBER: string]"
      ]
     },
     "execution_count": 25,
     "metadata": {},
     "output_type": "execute_result"
    }
   ],
   "source": [
    "dfspark.describe()"
   ]
  },
  {
   "cell_type": "code",
   "execution_count": 42,
   "id": "6d1e156f",
   "metadata": {},
   "outputs": [
    {
     "name": "stdout",
     "output_type": "stream",
     "text": [
      "+-----------+-----+\n",
      "|OBJECT_TYPE|count|\n",
      "+-----------+-----+\n",
      "|     DEBRIS|34360|\n",
      "|    UNKNOWN|  425|\n",
      "|    PAYLOAD|14822|\n",
      "|ROCKET BODY| 6442|\n",
      "+-----------+-----+\n",
      "\n"
     ]
    }
   ],
   "source": [
    "dfspark.groupby('OBJECT_TYPE').count().show()"
   ]
  },
  {
   "cell_type": "code",
   "execution_count": 52,
   "id": "5da81e21",
   "metadata": {},
   "outputs": [
    {
     "ename": "TypeError",
     "evalue": "PandasConversionMixin.toPandas() got an unexpected keyword argument 'index'",
     "output_type": "error",
     "traceback": [
      "\u001b[0;31m---------------------------------------------------------------------------\u001b[0m",
      "\u001b[0;31mTypeError\u001b[0m                                 Traceback (most recent call last)",
      "Cell \u001b[0;32mIn[52], line 1\u001b[0m\n\u001b[0;32m----> 1\u001b[0m df \u001b[38;5;241m=\u001b[39m \u001b[43mdfspark\u001b[49m\u001b[38;5;241;43m.\u001b[39;49m\u001b[43mtoPandas\u001b[49m\u001b[43m(\u001b[49m\u001b[43mindex\u001b[49m\u001b[38;5;241;43m=\u001b[39;49m\u001b[38;5;28;43;01mFalse\u001b[39;49;00m\u001b[43m)\u001b[49m\n",
      "\u001b[0;31mTypeError\u001b[0m: PandasConversionMixin.toPandas() got an unexpected keyword argument 'index'"
     ]
    }
   ],
   "source": [
    "dfspark.write.parquet('satcatdata.parquet')"
   ]
  },
  {
   "cell_type": "code",
   "execution_count": 53,
   "id": "e15fcac8",
   "metadata": {},
   "outputs": [
    {
     "data": {
      "text/html": [
       "<div>\n",
       "<style scoped>\n",
       "    .dataframe tbody tr th:only-of-type {\n",
       "        vertical-align: middle;\n",
       "    }\n",
       "\n",
       "    .dataframe tbody tr th {\n",
       "        vertical-align: top;\n",
       "    }\n",
       "\n",
       "    .dataframe thead th {\n",
       "        text-align: right;\n",
       "    }\n",
       "</style>\n",
       "<table border=\"1\" class=\"dataframe\">\n",
       "  <thead>\n",
       "    <tr style=\"text-align: right;\">\n",
       "      <th></th>\n",
       "      <th>INTLDES</th>\n",
       "      <th>NORAD_CAT_ID</th>\n",
       "      <th>OBJECT_TYPE</th>\n",
       "      <th>SATNAME</th>\n",
       "      <th>COUNTRY</th>\n",
       "      <th>LAUNCH</th>\n",
       "      <th>SITE</th>\n",
       "      <th>DECAY</th>\n",
       "      <th>PERIOD</th>\n",
       "      <th>INCLINATION</th>\n",
       "      <th>APOGEE</th>\n",
       "      <th>PERIGEE</th>\n",
       "      <th>FILE</th>\n",
       "      <th>LAUNCH_YEAR</th>\n",
       "      <th>LAUNCH_NUM</th>\n",
       "      <th>LAUNCH_PIECE</th>\n",
       "      <th>CURRENT</th>\n",
       "      <th>OBJECT_NAME</th>\n",
       "      <th>OBJECT_ID</th>\n",
       "      <th>OBJECT_NUMBER</th>\n",
       "    </tr>\n",
       "  </thead>\n",
       "  <tbody>\n",
       "    <tr>\n",
       "      <th>0</th>\n",
       "      <td>1957-001A</td>\n",
       "      <td>1</td>\n",
       "      <td>ROCKET BODY</td>\n",
       "      <td>SL-1 R/B</td>\n",
       "      <td>CIS</td>\n",
       "      <td>1957-10-04</td>\n",
       "      <td>TTMTR</td>\n",
       "      <td>1957-12-01</td>\n",
       "      <td>96.19</td>\n",
       "      <td>65.10</td>\n",
       "      <td>938.0</td>\n",
       "      <td>214.0</td>\n",
       "      <td>1</td>\n",
       "      <td>1957</td>\n",
       "      <td>1</td>\n",
       "      <td>A</td>\n",
       "      <td>Y</td>\n",
       "      <td>SL-1 R/B</td>\n",
       "      <td>1957-001A</td>\n",
       "      <td>1</td>\n",
       "    </tr>\n",
       "    <tr>\n",
       "      <th>1</th>\n",
       "      <td>1958-001A</td>\n",
       "      <td>4</td>\n",
       "      <td>PAYLOAD</td>\n",
       "      <td>EXPLORER 1</td>\n",
       "      <td>US</td>\n",
       "      <td>1958-02-01</td>\n",
       "      <td>AFETR</td>\n",
       "      <td>1970-03-31</td>\n",
       "      <td>88.48</td>\n",
       "      <td>33.15</td>\n",
       "      <td>215.0</td>\n",
       "      <td>183.0</td>\n",
       "      <td>1</td>\n",
       "      <td>1958</td>\n",
       "      <td>1</td>\n",
       "      <td>A</td>\n",
       "      <td>Y</td>\n",
       "      <td>EXPLORER 1</td>\n",
       "      <td>1958-001A</td>\n",
       "      <td>4</td>\n",
       "    </tr>\n",
       "    <tr>\n",
       "      <th>2</th>\n",
       "      <td>1958-003A</td>\n",
       "      <td>6</td>\n",
       "      <td>PAYLOAD</td>\n",
       "      <td>EXPLORER 3</td>\n",
       "      <td>US</td>\n",
       "      <td>1958-03-26</td>\n",
       "      <td>AFETR</td>\n",
       "      <td>1958-06-28</td>\n",
       "      <td>103.60</td>\n",
       "      <td>33.50</td>\n",
       "      <td>1739.0</td>\n",
       "      <td>117.0</td>\n",
       "      <td>1</td>\n",
       "      <td>1958</td>\n",
       "      <td>3</td>\n",
       "      <td>A</td>\n",
       "      <td>Y</td>\n",
       "      <td>EXPLORER 3</td>\n",
       "      <td>1958-003A</td>\n",
       "      <td>6</td>\n",
       "    </tr>\n",
       "    <tr>\n",
       "      <th>3</th>\n",
       "      <td>1958-004A</td>\n",
       "      <td>7</td>\n",
       "      <td>ROCKET BODY</td>\n",
       "      <td>SL-1 R/B</td>\n",
       "      <td>CIS</td>\n",
       "      <td>1958-05-15</td>\n",
       "      <td>TTMTR</td>\n",
       "      <td>1958-12-03</td>\n",
       "      <td>102.74</td>\n",
       "      <td>65.14</td>\n",
       "      <td>1571.0</td>\n",
       "      <td>206.0</td>\n",
       "      <td>1</td>\n",
       "      <td>1958</td>\n",
       "      <td>4</td>\n",
       "      <td>A</td>\n",
       "      <td>Y</td>\n",
       "      <td>SL-1 R/B</td>\n",
       "      <td>1958-004A</td>\n",
       "      <td>7</td>\n",
       "    </tr>\n",
       "    <tr>\n",
       "      <th>4</th>\n",
       "      <td>1958-004B</td>\n",
       "      <td>8</td>\n",
       "      <td>PAYLOAD</td>\n",
       "      <td>SPUTNIK 3</td>\n",
       "      <td>CIS</td>\n",
       "      <td>1958-05-15</td>\n",
       "      <td>TTMTR</td>\n",
       "      <td>1960-04-06</td>\n",
       "      <td>88.43</td>\n",
       "      <td>65.06</td>\n",
       "      <td>255.0</td>\n",
       "      <td>139.0</td>\n",
       "      <td>1</td>\n",
       "      <td>1958</td>\n",
       "      <td>4</td>\n",
       "      <td>B</td>\n",
       "      <td>Y</td>\n",
       "      <td>SPUTNIK 3</td>\n",
       "      <td>1958-004B</td>\n",
       "      <td>8</td>\n",
       "    </tr>\n",
       "    <tr>\n",
       "      <th>...</th>\n",
       "      <td>...</td>\n",
       "      <td>...</td>\n",
       "      <td>...</td>\n",
       "      <td>...</td>\n",
       "      <td>...</td>\n",
       "      <td>...</td>\n",
       "      <td>...</td>\n",
       "      <td>...</td>\n",
       "      <td>...</td>\n",
       "      <td>...</td>\n",
       "      <td>...</td>\n",
       "      <td>...</td>\n",
       "      <td>...</td>\n",
       "      <td>...</td>\n",
       "      <td>...</td>\n",
       "      <td>...</td>\n",
       "      <td>...</td>\n",
       "      <td>...</td>\n",
       "      <td>...</td>\n",
       "      <td>...</td>\n",
       "    </tr>\n",
       "    <tr>\n",
       "      <th>56044</th>\n",
       "      <td>2023-050F</td>\n",
       "      <td>56167</td>\n",
       "      <td>UNKNOWN</td>\n",
       "      <td>OBJECT F</td>\n",
       "      <td>US</td>\n",
       "      <td>2023-04-02</td>\n",
       "      <td>AFWTR</td>\n",
       "      <td>NaT</td>\n",
       "      <td>103.99</td>\n",
       "      <td>81.01</td>\n",
       "      <td>952.0</td>\n",
       "      <td>942.0</td>\n",
       "      <td>8373</td>\n",
       "      <td>2023</td>\n",
       "      <td>50</td>\n",
       "      <td>F</td>\n",
       "      <td>Y</td>\n",
       "      <td>OBJECT F</td>\n",
       "      <td>2023-050F</td>\n",
       "      <td>56167</td>\n",
       "    </tr>\n",
       "    <tr>\n",
       "      <th>56045</th>\n",
       "      <td>2023-050G</td>\n",
       "      <td>56168</td>\n",
       "      <td>UNKNOWN</td>\n",
       "      <td>OBJECT G</td>\n",
       "      <td>US</td>\n",
       "      <td>2023-04-02</td>\n",
       "      <td>AFWTR</td>\n",
       "      <td>NaT</td>\n",
       "      <td>103.98</td>\n",
       "      <td>81.00</td>\n",
       "      <td>951.0</td>\n",
       "      <td>942.0</td>\n",
       "      <td>8373</td>\n",
       "      <td>2023</td>\n",
       "      <td>50</td>\n",
       "      <td>G</td>\n",
       "      <td>Y</td>\n",
       "      <td>OBJECT G</td>\n",
       "      <td>2023-050G</td>\n",
       "      <td>56168</td>\n",
       "    </tr>\n",
       "    <tr>\n",
       "      <th>56046</th>\n",
       "      <td>2023-050H</td>\n",
       "      <td>56169</td>\n",
       "      <td>UNKNOWN</td>\n",
       "      <td>OBJECT H</td>\n",
       "      <td>US</td>\n",
       "      <td>2023-04-02</td>\n",
       "      <td>AFWTR</td>\n",
       "      <td>NaT</td>\n",
       "      <td>103.98</td>\n",
       "      <td>81.00</td>\n",
       "      <td>951.0</td>\n",
       "      <td>942.0</td>\n",
       "      <td>8373</td>\n",
       "      <td>2023</td>\n",
       "      <td>50</td>\n",
       "      <td>H</td>\n",
       "      <td>Y</td>\n",
       "      <td>OBJECT H</td>\n",
       "      <td>2023-050H</td>\n",
       "      <td>56169</td>\n",
       "    </tr>\n",
       "    <tr>\n",
       "      <th>56047</th>\n",
       "      <td>2023-050J</td>\n",
       "      <td>56170</td>\n",
       "      <td>UNKNOWN</td>\n",
       "      <td>OBJECT J</td>\n",
       "      <td>US</td>\n",
       "      <td>2023-04-02</td>\n",
       "      <td>AFWTR</td>\n",
       "      <td>NaT</td>\n",
       "      <td>103.94</td>\n",
       "      <td>81.00</td>\n",
       "      <td>950.0</td>\n",
       "      <td>939.0</td>\n",
       "      <td>8373</td>\n",
       "      <td>2023</td>\n",
       "      <td>50</td>\n",
       "      <td>J</td>\n",
       "      <td>Y</td>\n",
       "      <td>OBJECT J</td>\n",
       "      <td>2023-050J</td>\n",
       "      <td>56170</td>\n",
       "    </tr>\n",
       "    <tr>\n",
       "      <th>56048</th>\n",
       "      <td>2023-050K</td>\n",
       "      <td>56171</td>\n",
       "      <td>UNKNOWN</td>\n",
       "      <td>OBJECT K</td>\n",
       "      <td>US</td>\n",
       "      <td>2023-04-02</td>\n",
       "      <td>AFWTR</td>\n",
       "      <td>NaT</td>\n",
       "      <td>103.94</td>\n",
       "      <td>81.00</td>\n",
       "      <td>951.0</td>\n",
       "      <td>939.0</td>\n",
       "      <td>8373</td>\n",
       "      <td>2023</td>\n",
       "      <td>50</td>\n",
       "      <td>K</td>\n",
       "      <td>Y</td>\n",
       "      <td>OBJECT K</td>\n",
       "      <td>2023-050K</td>\n",
       "      <td>56171</td>\n",
       "    </tr>\n",
       "  </tbody>\n",
       "</table>\n",
       "<p>56049 rows × 20 columns</p>\n",
       "</div>"
      ],
      "text/plain": [
       "         INTLDES  NORAD_CAT_ID  OBJECT_TYPE     SATNAME COUNTRY     LAUNCH  \\\n",
       "0      1957-001A             1  ROCKET BODY    SL-1 R/B     CIS 1957-10-04   \n",
       "1      1958-001A             4      PAYLOAD  EXPLORER 1      US 1958-02-01   \n",
       "2      1958-003A             6      PAYLOAD  EXPLORER 3      US 1958-03-26   \n",
       "3      1958-004A             7  ROCKET BODY    SL-1 R/B     CIS 1958-05-15   \n",
       "4      1958-004B             8      PAYLOAD   SPUTNIK 3     CIS 1958-05-15   \n",
       "...          ...           ...          ...         ...     ...        ...   \n",
       "56044  2023-050F         56167      UNKNOWN    OBJECT F      US 2023-04-02   \n",
       "56045  2023-050G         56168      UNKNOWN    OBJECT G      US 2023-04-02   \n",
       "56046  2023-050H         56169      UNKNOWN    OBJECT H      US 2023-04-02   \n",
       "56047  2023-050J         56170      UNKNOWN    OBJECT J      US 2023-04-02   \n",
       "56048  2023-050K         56171      UNKNOWN    OBJECT K      US 2023-04-02   \n",
       "\n",
       "        SITE      DECAY  PERIOD  INCLINATION  APOGEE  PERIGEE  FILE  \\\n",
       "0      TTMTR 1957-12-01   96.19        65.10   938.0    214.0     1   \n",
       "1      AFETR 1970-03-31   88.48        33.15   215.0    183.0     1   \n",
       "2      AFETR 1958-06-28  103.60        33.50  1739.0    117.0     1   \n",
       "3      TTMTR 1958-12-03  102.74        65.14  1571.0    206.0     1   \n",
       "4      TTMTR 1960-04-06   88.43        65.06   255.0    139.0     1   \n",
       "...      ...        ...     ...          ...     ...      ...   ...   \n",
       "56044  AFWTR        NaT  103.99        81.01   952.0    942.0  8373   \n",
       "56045  AFWTR        NaT  103.98        81.00   951.0    942.0  8373   \n",
       "56046  AFWTR        NaT  103.98        81.00   951.0    942.0  8373   \n",
       "56047  AFWTR        NaT  103.94        81.00   950.0    939.0  8373   \n",
       "56048  AFWTR        NaT  103.94        81.00   951.0    939.0  8373   \n",
       "\n",
       "       LAUNCH_YEAR  LAUNCH_NUM LAUNCH_PIECE CURRENT OBJECT_NAME  OBJECT_ID  \\\n",
       "0             1957           1            A       Y    SL-1 R/B  1957-001A   \n",
       "1             1958           1            A       Y  EXPLORER 1  1958-001A   \n",
       "2             1958           3            A       Y  EXPLORER 3  1958-003A   \n",
       "3             1958           4            A       Y    SL-1 R/B  1958-004A   \n",
       "4             1958           4            B       Y   SPUTNIK 3  1958-004B   \n",
       "...            ...         ...          ...     ...         ...        ...   \n",
       "56044         2023          50            F       Y    OBJECT F  2023-050F   \n",
       "56045         2023          50            G       Y    OBJECT G  2023-050G   \n",
       "56046         2023          50            H       Y    OBJECT H  2023-050H   \n",
       "56047         2023          50            J       Y    OBJECT J  2023-050J   \n",
       "56048         2023          50            K       Y    OBJECT K  2023-050K   \n",
       "\n",
       "       OBJECT_NUMBER  \n",
       "0                  1  \n",
       "1                  4  \n",
       "2                  6  \n",
       "3                  7  \n",
       "4                  8  \n",
       "...              ...  \n",
       "56044          56167  \n",
       "56045          56168  \n",
       "56046          56169  \n",
       "56047          56170  \n",
       "56048          56171  \n",
       "\n",
       "[56049 rows x 20 columns]"
      ]
     },
     "execution_count": 53,
     "metadata": {},
     "output_type": "execute_result"
    }
   ],
   "source": [
    "df"
   ]
  },
  {
   "cell_type": "code",
   "execution_count": 54,
   "id": "420815c0",
   "metadata": {},
   "outputs": [
    {
     "name": "stdout",
     "output_type": "stream",
     "text": [
      "+-------+-----+\n",
      "|CURRENT|count|\n",
      "+-------+-----+\n",
      "|      Y|56049|\n",
      "+-------+-----+\n",
      "\n"
     ]
    }
   ],
   "source": [
    "dfspark.groupby('CURRENT').count().show()"
   ]
  },
  {
   "cell_type": "code",
   "execution_count": 57,
   "id": "f545f586",
   "metadata": {},
   "outputs": [
    {
     "ename": "AnalysisException",
     "evalue": "path file:/Users/hassanmuhammed/Desktop/Home/Repositories/SattelitesProject/data/satcatdata already exists.",
     "output_type": "error",
     "traceback": [
      "\u001b[0;31m---------------------------------------------------------------------------\u001b[0m",
      "\u001b[0;31mAnalysisException\u001b[0m                         Traceback (most recent call last)",
      "Cell \u001b[0;32mIn[57], line 1\u001b[0m\n\u001b[0;32m----> 1\u001b[0m \u001b[43mdfspark\u001b[49m\u001b[38;5;241;43m.\u001b[39;49m\u001b[43mcoalesce\u001b[49m\u001b[43m(\u001b[49m\u001b[38;5;241;43m1\u001b[39;49m\u001b[43m)\u001b[49m\u001b[38;5;241;43m.\u001b[39;49m\u001b[43mwrite\u001b[49m\u001b[38;5;241;43m.\u001b[39;49m\u001b[43mparquet\u001b[49m\u001b[43m(\u001b[49m\u001b[38;5;124;43m\"\u001b[39;49m\u001b[38;5;124;43m../data/satcatdata\u001b[39;49m\u001b[38;5;124;43m\"\u001b[39;49m\u001b[43m)\u001b[49m\n",
      "File \u001b[0;32m/opt/homebrew/lib/python3.11/site-packages/pyspark/sql/readwriter.py:1140\u001b[0m, in \u001b[0;36mDataFrameWriter.parquet\u001b[0;34m(self, path, mode, partitionBy, compression)\u001b[0m\n\u001b[1;32m   1138\u001b[0m     \u001b[38;5;28mself\u001b[39m\u001b[38;5;241m.\u001b[39mpartitionBy(partitionBy)\n\u001b[1;32m   1139\u001b[0m \u001b[38;5;28mself\u001b[39m\u001b[38;5;241m.\u001b[39m_set_opts(compression\u001b[38;5;241m=\u001b[39mcompression)\n\u001b[0;32m-> 1140\u001b[0m \u001b[38;5;28;43mself\u001b[39;49m\u001b[38;5;241;43m.\u001b[39;49m\u001b[43m_jwrite\u001b[49m\u001b[38;5;241;43m.\u001b[39;49m\u001b[43mparquet\u001b[49m\u001b[43m(\u001b[49m\u001b[43mpath\u001b[49m\u001b[43m)\u001b[49m\n",
      "File \u001b[0;32m/opt/homebrew/lib/python3.11/site-packages/py4j/java_gateway.py:1321\u001b[0m, in \u001b[0;36mJavaMember.__call__\u001b[0;34m(self, *args)\u001b[0m\n\u001b[1;32m   1315\u001b[0m command \u001b[38;5;241m=\u001b[39m proto\u001b[38;5;241m.\u001b[39mCALL_COMMAND_NAME \u001b[38;5;241m+\u001b[39m\\\n\u001b[1;32m   1316\u001b[0m     \u001b[38;5;28mself\u001b[39m\u001b[38;5;241m.\u001b[39mcommand_header \u001b[38;5;241m+\u001b[39m\\\n\u001b[1;32m   1317\u001b[0m     args_command \u001b[38;5;241m+\u001b[39m\\\n\u001b[1;32m   1318\u001b[0m     proto\u001b[38;5;241m.\u001b[39mEND_COMMAND_PART\n\u001b[1;32m   1320\u001b[0m answer \u001b[38;5;241m=\u001b[39m \u001b[38;5;28mself\u001b[39m\u001b[38;5;241m.\u001b[39mgateway_client\u001b[38;5;241m.\u001b[39msend_command(command)\n\u001b[0;32m-> 1321\u001b[0m return_value \u001b[38;5;241m=\u001b[39m \u001b[43mget_return_value\u001b[49m\u001b[43m(\u001b[49m\n\u001b[1;32m   1322\u001b[0m \u001b[43m    \u001b[49m\u001b[43manswer\u001b[49m\u001b[43m,\u001b[49m\u001b[43m \u001b[49m\u001b[38;5;28;43mself\u001b[39;49m\u001b[38;5;241;43m.\u001b[39;49m\u001b[43mgateway_client\u001b[49m\u001b[43m,\u001b[49m\u001b[43m \u001b[49m\u001b[38;5;28;43mself\u001b[39;49m\u001b[38;5;241;43m.\u001b[39;49m\u001b[43mtarget_id\u001b[49m\u001b[43m,\u001b[49m\u001b[43m \u001b[49m\u001b[38;5;28;43mself\u001b[39;49m\u001b[38;5;241;43m.\u001b[39;49m\u001b[43mname\u001b[49m\u001b[43m)\u001b[49m\n\u001b[1;32m   1324\u001b[0m \u001b[38;5;28;01mfor\u001b[39;00m temp_arg \u001b[38;5;129;01min\u001b[39;00m temp_args:\n\u001b[1;32m   1325\u001b[0m     temp_arg\u001b[38;5;241m.\u001b[39m_detach()\n",
      "File \u001b[0;32m/opt/homebrew/lib/python3.11/site-packages/pyspark/sql/utils.py:196\u001b[0m, in \u001b[0;36mcapture_sql_exception.<locals>.deco\u001b[0;34m(*a, **kw)\u001b[0m\n\u001b[1;32m    192\u001b[0m converted \u001b[38;5;241m=\u001b[39m convert_exception(e\u001b[38;5;241m.\u001b[39mjava_exception)\n\u001b[1;32m    193\u001b[0m \u001b[38;5;28;01mif\u001b[39;00m \u001b[38;5;129;01mnot\u001b[39;00m \u001b[38;5;28misinstance\u001b[39m(converted, UnknownException):\n\u001b[1;32m    194\u001b[0m     \u001b[38;5;66;03m# Hide where the exception came from that shows a non-Pythonic\u001b[39;00m\n\u001b[1;32m    195\u001b[0m     \u001b[38;5;66;03m# JVM exception message.\u001b[39;00m\n\u001b[0;32m--> 196\u001b[0m     \u001b[38;5;28;01mraise\u001b[39;00m converted \u001b[38;5;28;01mfrom\u001b[39;00m \u001b[38;5;28mNone\u001b[39m\n\u001b[1;32m    197\u001b[0m \u001b[38;5;28;01melse\u001b[39;00m:\n\u001b[1;32m    198\u001b[0m     \u001b[38;5;28;01mraise\u001b[39;00m\n",
      "\u001b[0;31mAnalysisException\u001b[0m: path file:/Users/hassanmuhammed/Desktop/Home/Repositories/SattelitesProject/data/satcatdata already exists."
     ]
    }
   ],
   "source": [
    "dfspark.coalesce(1).write.parquet(\"../data/satcatdata\")\n"
   ]
  },
  {
   "cell_type": "code",
   "execution_count": null,
   "id": "7533fd3d",
   "metadata": {},
   "outputs": [],
   "source": []
  }
 ],
 "metadata": {
  "kernelspec": {
   "display_name": "Python 3 (ipykernel)",
   "language": "python",
   "name": "python3"
  },
  "language_info": {
   "codemirror_mode": {
    "name": "ipython",
    "version": 3
   },
   "file_extension": ".py",
   "mimetype": "text/x-python",
   "name": "python",
   "nbconvert_exporter": "python",
   "pygments_lexer": "ipython3",
   "version": "3.11.2"
  }
 },
 "nbformat": 4,
 "nbformat_minor": 5
}
